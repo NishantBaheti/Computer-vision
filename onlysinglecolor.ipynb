{
 "cells": [
  {
   "cell_type": "code",
   "execution_count": 9,
   "metadata": {},
   "outputs": [],
   "source": [
    "import cv2\n",
    "\n",
    "cap=cv2.VideoCapture(0)\n",
    "while cap.isOpened():\n",
    "        status,frame=cap.read()\n",
    "        \n",
    "        only_blue=cv2.inRange(frame,(100,0,0),(255,40,40))\n",
    "        only_green=cv2.inRange(frame,(0,100,0),(40,255,40))\n",
    "        only_red=cv2.inRange(frame,(0,0,100),(40,40,255))\n",
    "        cv2.imshow('nishant_blue',only_blue)\n",
    "        cv2.imshow('nishant_green',only_green)\n",
    "        cv2.imshow('nishant_red',only_red)\n",
    "        if cv2.waitKey(1) & 0xFF == ord('q'):\n",
    "            break\n",
    "            \n",
    "cv2.destroyAllWindows()\n",
    "cap.release()"
   ]
  },
  {
   "cell_type": "code",
   "execution_count": null,
   "metadata": {},
   "outputs": [],
   "source": []
  },
  {
   "cell_type": "code",
   "execution_count": null,
   "metadata": {},
   "outputs": [],
   "source": []
  }
 ],
 "metadata": {
  "kernelspec": {
   "display_name": "Python 3",
   "language": "python",
   "name": "python3"
  },
  "language_info": {
   "codemirror_mode": {
    "name": "ipython",
    "version": 3
   },
   "file_extension": ".py",
   "mimetype": "text/x-python",
   "name": "python",
   "nbconvert_exporter": "python",
   "pygments_lexer": "ipython3",
   "version": "3.5.2"
  }
 },
 "nbformat": 4,
 "nbformat_minor": 2
}
