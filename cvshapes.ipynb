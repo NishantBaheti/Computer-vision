{
 "cells": [
  {
   "cell_type": "code",
   "execution_count": null,
   "metadata": {},
   "outputs": [],
   "source": [
    "import cv2\n",
    "import numpy as np\n",
    "\n",
    "img=np.zeros((512,512,3))\n",
    "\n",
    "img1=cv2.line(img,(0,0),(511,511),(255,0,0),5)\n",
    "img2=cv2.circle(img1,(256,256),20,(0,255,0),5)\n",
    "img3=cv2.rectangle(img2,(20,20),(255,255),(0,0,255),5)\n",
    "img4= cv2.ellipse(img3,(256,256),(100,50),0,0,180,255,5)\n",
    "cv2.imshow('nishnat',img4)\n",
    "cv2.waitKey(0) \n",
    "cv2.destroyAllWindows(0)\n"
   ]
  },
  {
   "cell_type": "code",
   "execution_count": null,
   "metadata": {},
   "outputs": [],
   "source": []
  }
 ],
 "metadata": {
  "kernelspec": {
   "display_name": "Python 3",
   "language": "python",
   "name": "python3"
  },
  "language_info": {
   "codemirror_mode": {
    "name": "ipython",
    "version": 3
   },
   "file_extension": ".py",
   "mimetype": "text/x-python",
   "name": "python",
   "nbconvert_exporter": "python",
   "pygments_lexer": "ipython3",
   "version": "3.5.2"
  }
 },
 "nbformat": 4,
 "nbformat_minor": 2
}
